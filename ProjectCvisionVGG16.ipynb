{
  "cells": [
    {
      "cell_type": "code",
      "execution_count": 82,
      "metadata": {
        "colab": {
          "base_uri": "https://localhost:8080/"
        },
        "id": "_vFiLHhlgTJ8",
        "outputId": "4c85d783-6502-4ed9-935e-ee2538ccf7aa"
      },
      "outputs": [
        {
          "output_type": "stream",
          "name": "stdout",
          "text": [
            "Drive already mounted at /content/drive; to attempt to forcibly remount, call drive.mount(\"/content/drive\", force_remount=True).\n"
          ]
        }
      ],
      "source": [
        "import os\n",
        "import numpy as np\n",
        "import pandas as pd\n",
        "import zipfile\n",
        "import shutil\n",
        "import matplotlib.pyplot as plt\n",
        "\n",
        "from sklearn.model_selection import train_test_split\n",
        "from tensorflow.keras.preprocessing.image import ImageDataGenerator\n",
        "from tensorflow.keras.applications import VGG16\n",
        "from tensorflow.keras.layers import Dense, Flatten, Dropout\n",
        "from tensorflow.keras.models import Model, load_model\n",
        "from tensorflow.keras.optimizers import Adam\n",
        "\n",
        "# Mount Google Drive\n",
        "from google.colab import drive\n",
        "drive.mount('/content/drive')\n",
        "\n",
        "# Define folder paths\n",
        "folder_path = '/content/drive/MyDrive/Images'\n",
        "train_dir = '/content/drive/MyDrive/Train'\n",
        "val_dir = '/content/drive/MyDrive/Validation'\n",
        "test_dir = '/content/drive/MyDrive/Test'\n",
        "#ujicoba_dir = '/content/drive/MyDrive/Ujicoba'\n",
        "root_path = '/content/drive/MyDrive/'\n",
        "\n",
        "# Create destination folders if they don't exist\n",
        "os.makedirs(os.path.join(train_dir, 'Male'), exist_ok=True)\n",
        "os.makedirs(os.path.join(train_dir, 'Female'), exist_ok=True)\n",
        "os.makedirs(os.path.join(val_dir, 'Val_Male'), exist_ok=True)\n",
        "os.makedirs(os.path.join(val_dir, 'Val_Female'), exist_ok=True)\n",
        "os.makedirs(os.path.join(test_dir, 'Test_Male'), exist_ok=True)\n",
        "os.makedirs(os.path.join(test_dir, 'Test_Female'), exist_ok=True)\n",
        "\n",
        "# List files in the specified Google Drive folder\n",
        "existing_filenames = os.listdir(folder_path)\n",
        "\n",
        "# Paths to the extracted files\n",
        "list_attributes_path = root_path + 'list_attribute.txt'\n",
        "class_identity_path = root_path + 'class_identity.txt'\n",
        "gender_classification_path = root_path + 'gender_classification.csv'\n"
      ]
    },
    {
      "cell_type": "markdown",
      "metadata": {
        "id": "WPNc90NpesSZ"
      },
      "source": [
        "# Process List Attributes Data Frame"
      ]
    },
    {
      "cell_type": "code",
      "execution_count": 83,
      "metadata": {
        "id": "6B4Bd9kJextf"
      },
      "outputs": [],
      "source": [
        "# Reading the list_attributes file\n",
        "with open(list_attributes_path, 'r') as file:\n",
        "    list_attributes_content = file.readlines()\n",
        "\n",
        "# Extracting attribute names\n",
        "attribute_names = list_attributes_content[1].strip().split()\n",
        "\n",
        "# Loading the list_attributes file and adding the Filename column\n",
        "list_attributes_df = pd.read_csv(list_attributes_path, sep=\"\\s+\", header=None, skiprows=2)\n",
        "list_attributes_df.columns = ['Filename'] + attribute_names\n"
      ]
    },
    {
      "cell_type": "markdown",
      "metadata": {
        "id": "7p3u3tMcezio"
      },
      "source": [
        "# Process Class identify Data Frame"
      ]
    },
    {
      "cell_type": "code",
      "execution_count": 84,
      "metadata": {
        "id": "i6I-PjFKe6bn"
      },
      "outputs": [],
      "source": [
        "# Reading the class_identify file\n",
        "class_identity_df = pd.read_csv(class_identity_path, sep=\"\\s+\", header=None)\n",
        "class_identity_df.columns = ['Filename', 'Class_id']\n"
      ]
    },
    {
      "cell_type": "markdown",
      "metadata": {
        "id": "WtOvkAb9fbDA"
      },
      "source": [
        "# Menggabungkan DataFrame List Attributes dan Class identify B/O Nama File\n"
      ]
    },
    {
      "cell_type": "code",
      "execution_count": 85,
      "metadata": {
        "id": "PzpAyl8KfJBM"
      },
      "outputs": [],
      "source": [
        "# Merging the DataFrames\n",
        "merged_df = pd.merge(list_attributes_df, class_identity_df, on='Filename')\n",
        "\n",
        "# Sorting the merged DataFrame by Filename\n",
        "merged_df = merged_df.sort_values(by='Filename')\n",
        "\n",
        "# Filter the merged_df to keep only rows where Filename exists in existing_filenames\n",
        "clean_merged_df = merged_df[merged_df['Filename'].isin(existing_filenames)]\n"
      ]
    },
    {
      "cell_type": "code",
      "execution_count": null,
      "metadata": {
        "id": "Hv6mcYneEgK9"
      },
      "outputs": [],
      "source": [
        "# Preview dataframe with specific columns using .head()\n",
        "preview_df = clean_merged_df[['Filename', 'Class_id', 'Male']].head()\n",
        "print(preview_df)\n",
        "\n",
        "clean_merged_df.to_excel('/content/drive/MyDrive/preview_merged_df.xlsx', index=False)\n",
        "print(\"DataFrame has been exported to Excel file successfully.\")"
      ]
    },
    {
      "cell_type": "markdown",
      "metadata": {
        "id": "3l8fmq7OfvXI"
      },
      "source": [
        "# Process memisahkan Data Train , Validasi dan Testing"
      ]
    },
    {
      "cell_type": "code",
      "execution_count": null,
      "metadata": {
        "id": "D4SVZXQnfsQ8"
      },
      "outputs": [],
      "source": [
        "# Split the clean_merged_df into training, validation, and testing sets\n",
        "train_val_df, test_df = train_test_split(clean_merged_df, test_size=0.2, random_state=42)\n",
        "train_df, val_df = train_test_split(train_val_df, test_size=0.25, random_state=42)  # 0.25 x 0.8 = 0.2\n",
        "\n",
        "# Print the number of rows in the datasets\n",
        "print(f\"Number of rows in the training set: {len(train_df)}\")\n",
        "print(f\"Number of rows in the validation set: {len(val_df)}\")\n",
        "print(f\"Number of rows in the testing set: {len(test_df)}\")"
      ]
    },
    {
      "cell_type": "markdown",
      "metadata": {
        "id": "blDeQXVtgVqj"
      },
      "source": [
        "# Memisahkan Folder gambar untuk Training, Validation dan Testing"
      ]
    },
    {
      "cell_type": "code",
      "execution_count": null,
      "metadata": {
        "colab": {
          "background_save": true
        },
        "id": "BDM0Znh5ga_q"
      },
      "outputs": [],
      "source": [
        "# Memisahkan gambar ke dalam folder berdasarkan kolom 'Male' untuk data pelatihan\n",
        "for index, row in train_df.iterrows():\n",
        "    src_file_path = os.path.join(folder_path, row['Filename'])\n",
        "    if row['Male'] == 1:\n",
        "        dest_file_path = os.path.join(train_dir, 'Male', row['Filename'])\n",
        "    else:\n",
        "        dest_file_path = os.path.join(train_dir, 'Female', row['Filename'])\n",
        "    shutil.copy(src_file_path, dest_file_path)\n",
        "\n",
        "# Memisahkan gambar ke dalam folder berdasarkan kolom 'Male' untuk data validasi\n",
        "for index, row in val_df.iterrows():\n",
        "    src_file_path = os.path.join(folder_path, row['Filename'])\n",
        "    if row['Male'] == 1:\n",
        "        dest_file_path = os.path.join(val_dir, 'Val_Male', row['Filename'])\n",
        "    else:\n",
        "        dest_file_path = os.path.join(val_dir, 'Val_Female', row['Filename'])\n",
        "    shutil.copy(src_file_path, dest_file_path)\n",
        "\n",
        "# Memisahkan gambar ke dalam folder berdasarkan kolom 'Male' untuk data pengujian\n",
        "for index, row in test_df.iterrows():\n",
        "    src_file_path = os.path.join(folder_path, row['Filename'])\n",
        "    if row['Male'] == 1:\n",
        "        dest_file_path = os.path.join(test_dir, 'Test_Male', row['Filename'])\n",
        "    else:\n",
        "        dest_file_path = os.path.join(test_dir, 'Test_Female', row['Filename'])\n",
        "    shutil.copy(src_file_path, dest_file_path)\n"
      ]
    },
    {
      "cell_type": "markdown",
      "metadata": {
        "id": "7sdQv7ONgi5R"
      },
      "source": [
        "# Setup Generatator untuk Train, Validation, dan Testing\n",
        "\n",
        "\n"
      ]
    },
    {
      "cell_type": "code",
      "execution_count": null,
      "metadata": {
        "id": "06Y_frql-MH9"
      },
      "outputs": [],
      "source": [
        "# Menyiapkan data generator dengan augmentasi\n",
        "train_datagen = ImageDataGenerator(\n",
        "    rescale=1./255,\n",
        "    rotation_range=20,\n",
        "    width_shift_range=0.2,\n",
        "    height_shift_range=0.2,\n",
        "    shear_range=0.2,\n",
        "    zoom_range=0.2,\n",
        "    horizontal_flip=True,\n",
        "    fill_mode='nearest'\n",
        ")\n",
        "\n",
        "val_test_datagen = ImageDataGenerator(rescale=1./255)\n",
        "\n",
        "# Mengatur generator data untuk pelatihan\n",
        "train_generator = train_datagen.flow_from_directory(\n",
        "    directory=train_dir,  # Direktori root yang berisi subfolder 'Male' dan 'Female'\n",
        "    target_size=(224, 224),\n",
        "    batch_size=64,\n",
        "    class_mode='binary',\n",
        "    classes=['Male', 'Female']\n",
        ")\n",
        "\n",
        "# Mengatur generator data untuk validasi\n",
        "validation_generator = val_test_datagen.flow_from_directory(\n",
        "    directory=val_dir,  # Direktori root yang berisi subfolder 'Val_Male' dan 'Val_Female'\n",
        "    target_size=(224, 224),\n",
        "    batch_size=64,\n",
        "    class_mode='binary',\n",
        "    classes=['Val_Male', 'Val_Female']\n",
        ")\n",
        "\n",
        "# Mengatur generator data untuk pengujian\n",
        "test_generator = val_test_datagen.flow_from_directory(\n",
        "    directory=test_dir,  # Direktori root yang berisi subfolder 'Test_Male' dan 'Test_Female'\n",
        "    target_size=(224, 224),\n",
        "    batch_size=64,\n",
        "    class_mode='binary',\n",
        "    classes=['Test_Male', 'Test_Female']\n",
        ")\n",
        "\n",
        "# Mengatur generator data untuk pelatihan (Tanpa pakai Label)\n",
        "#ujicoba_generator = val_test_datagen.flow_from_directory(\n",
        "#    directory=ujicoba_dir,  # Direktori root yang berisi subfolder 'Male' dan 'Female'\n",
        "#    target_size=(224, 224),\n",
        "#    batch_size=64,\n",
        "#    class_mode='binary',\n",
        "#    classes=['Male', 'Female']\n",
        "#)\n",
        "\n"
      ]
    },
    {
      "cell_type": "markdown",
      "metadata": {
        "id": "vpz2-szdhSRi"
      },
      "source": [
        "# Traing Model VGG16 Batch size 32, Adam (Optimize dengan BayesianOptimization)\n"
      ]
    },
    {
      "cell_type": "code",
      "execution_count": null,
      "metadata": {
        "collapsed": true,
        "id": "UnukZwikAVcZ"
      },
      "outputs": [],
      "source": [
        "!pip install keras-tuner\n",
        "\n",
        "from kerastuner.tuners import BayesianOptimization\n",
        "from kerastuner import HyperModel\n",
        "from tensorflow.keras.callbacks import EarlyStopping\n",
        "\n",
        "class VGG16HyperModel(HyperModel):\n",
        "    def build(self, hp):\n",
        "        base_model = VGG16(weights='imagenet', include_top=False, input_shape=(224, 224, 3))\n",
        "        x = base_model.output\n",
        "        x = Flatten()(x)\n",
        "        x = Dense(units=hp.Int('units', min_value=256, max_value=1024, step=128), activation='relu')(x)\n",
        "        x = Dropout(rate=hp.Float('dropout', min_value=0.3, max_value=0.7, step=0.1))(x)\n",
        "        predictions = Dense(1, activation='sigmoid')(x)\n",
        "        model = Model(inputs=base_model.input, outputs=predictions)\n",
        "\n",
        "        for layer in base_model.layers:\n",
        "            layer.trainable = False\n",
        "\n",
        "        model.compile(\n",
        "            optimizer=Adam(learning_rate=hp.Float('learning_rate', min_value=1e-4, max_value=1e-2, sampling='LOG')),\n",
        "            loss='binary_crossentropy',\n",
        "            metrics=['accuracy']\n",
        "        )\n",
        "        return model\n",
        "\n",
        "tuner = BayesianOptimization(\n",
        "    VGG16HyperModel(),\n",
        "    objective='val_accuracy',\n",
        "    max_trials=3,\n",
        "    executions_per_trial=1,\n",
        "    directory='/content/drive/MyDrive/Hyperparameter_Tuning_Trial3',\n",
        "    project_name='VGG16_gender_classification'\n",
        ")\n",
        "\n",
        "tuner.search_space_summary()\n",
        "\n",
        "# Early stopping callback\n",
        "early_stopping = EarlyStopping(monitor='val_loss', patience=10, restore_best_weights=True)\n",
        "\n",
        "# Run the hyperparameter search\n",
        "tuner.search(\n",
        "    train_generator,\n",
        "    epochs=50,\n",
        "    validation_data=validation_generator,\n",
        "    callbacks=[early_stopping]\n",
        ")\n",
        "\n",
        "# Get the best model\n",
        "best_model = tuner.get_best_models(num_models=1)[0]\n",
        "\n",
        "# Save the best model`\n",
        "best_model.save('/content/drive/MyDrive/vgg16_gender_classification_best_model3.h5')\n",
        "\n",
        "# Evaluate the best model\n",
        "test_loss, test_accuracy = best_model.evaluate(test_generator)\n",
        "print(f'Test Loss: {test_loss}')\n",
        "print(f'Test Accuracy: {test_accuracy}')"
      ]
    },
    {
      "cell_type": "markdown",
      "source": [
        "# Visualisasi Data Training"
      ],
      "metadata": {
        "id": "GcfOUO_dOb5r"
      }
    },
    {
      "cell_type": "code",
      "execution_count": null,
      "metadata": {
        "collapsed": true,
        "id": "1wgOkpmNQMvE"
      },
      "outputs": [],
      "source": [
        "import matplotlib.pyplot as plt\n",
        "from tensorflow.keras.preprocessing.image import ImageDataGenerator\n",
        "\n",
        "\n",
        "# Generate and show augmented images for training data\n",
        "fig, ax = plt.subplots(5, 10, figsize=(20, 10))\n",
        "ax = ax.flatten()\n",
        "\n",
        "# Generate a single batch of images\n",
        "batch = next(train_generator)\n",
        "\n",
        "# Map class indices to class labels\n",
        "labels_map = {v: k for k, v in train_generator.class_indices.items()}\n",
        "\n",
        "# Iterate over the images and labels in the batch\n",
        "for i in range(min(50, len(batch[0]))):\n",
        "    img = batch[0][i]  # Get the ith image of the batch\n",
        "    label_idx = int(batch[1][i])  # Get the corresponding label index\n",
        "    label = labels_map[label_idx]  # Map index to label\n",
        "    augmented_img = img  # Images are already augmented by the generator\n",
        "    ax[i].imshow(augmented_img)\n",
        "    ax[i].set_title(label)\n",
        "    ax[i].axis('off')\n",
        "\n",
        "plt.tight_layout()\n",
        "plt.show()\n"
      ]
    },
    {
      "cell_type": "markdown",
      "metadata": {
        "id": "Fvx7xQTwn6-s"
      },
      "source": [
        "# Evaluasi Model"
      ]
    },
    {
      "cell_type": "code",
      "execution_count": null,
      "metadata": {
        "id": "aSHu2V0sn8uI"
      },
      "outputs": [],
      "source": [
        "# Memuat model jika belum dimuat\n",
        "model_path = '/content/drive/MyDrive/vgg16_gender_classification_best_model2.h5'\n",
        "model = load_model(model_path)\n",
        "\n",
        "# Mengevaluasi model pada data pelatihan\n",
        "train_loss, train_accuracy = model.evaluate(train_generator)\n",
        "print(f'Train Loss: {train_loss}')\n",
        "print(f'Train Accuracy: {train_accuracy}')\n",
        "\n",
        "# Mengevaluasi model pada data validasi\n",
        "val_loss, val_accuracy = model.evaluate(validation_generator)\n",
        "print(f'Validation Loss: {val_loss}')\n",
        "print(f'Validation Accuracy: {val_accuracy}')\n",
        "\n",
        "# Mengevaluasi model pada data pengujian\n",
        "test_loss, test_accuracy = model.evaluate(test_generator)\n",
        "print(f'Test Loss: {test_loss}')\n",
        "print(f'Test Accuracy: {test_accuracy}')\n"
      ]
    },
    {
      "cell_type": "markdown",
      "metadata": {
        "id": "--R4B-23ifFF"
      },
      "source": [
        "# Pengujian Gambar"
      ]
    },
    {
      "cell_type": "code",
      "execution_count": null,
      "metadata": {
        "id": "sR2Idh4ZieNA"
      },
      "outputs": [],
      "source": [
        "import matplotlib.pyplot as plt\n",
        "from tensorflow.keras.preprocessing.image import ImageDataGenerator\n",
        "\n",
        "# Generate and show augmented images for training data\n",
        "fig, ax = plt.subplots(5, 10, figsize=(20, 10))\n",
        "ax = ax.flatten()\n",
        "\n",
        "# Generate a single batch of images\n",
        "batch = next(test_generator)\n",
        "\n",
        "# Print class indices to verify the order\n",
        "print(test_generator.class_indices)\n",
        "\n",
        "# Assuming 'Male' is 0 and 'Female' is 1 based on class_indices\n",
        "# Modify this according to your class_indices if different\n",
        "labels_map = {0: 'Male', 1: 'Female'}\n",
        "\n",
        "# Iterate over the images and labels in the batch\n",
        "for i in range(min(50, len(batch[0]))):\n",
        "    img = batch[0][i]  # Get the ith image of the batch\n",
        "    label_idx = int(batch[1][i])  # Get the corresponding label index\n",
        "    label = labels_map[label_idx]  # Map index to label\n",
        "    augmented_img = img  # Images are already augmented by the generator\n",
        "    ax[i].imshow(augmented_img)\n",
        "    ax[i].set_title(label)\n",
        "    ax[i].axis('off')\n",
        "\n",
        "plt.tight_layout()\n",
        "plt.show()\n"
      ]
    },
    {
      "cell_type": "code",
      "execution_count": null,
      "metadata": {
        "id": "kWxoAnhvRR0c"
      },
      "outputs": [],
      "source": [
        "from google.colab import drive\n",
        "drive.mount('/content/drive')\n",
        "\n",
        "from tensorflow.keras.preprocessing.image import ImageDataGenerator, load_img, img_to_array\n",
        "from tensorflow.keras.models import load_model\n",
        "import numpy as np\n",
        "import matplotlib.pyplot as plt\n",
        "import os\n",
        "\n",
        "def predict_images_in_folder(model_path, folder_path, target_size=(224, 224)):\n",
        "    \"\"\"\n",
        "    Memperkirakan label untuk gambar yang ada di folder tertentu menggunakan model yang telah dilatih.\n",
        "\n",
        "    Parameters:\n",
        "    - model_path: Path ke model yang telah dilatih (file .h5).\n",
        "    - folder_path: Path ke folder yang berisi gambar.\n",
        "    - target_size: Ukuran gambar yang diharapkan oleh model.\n",
        "\n",
        "    Returns:\n",
        "    - Tidak ada (menampilkan gambar beserta label yang diprediksi).\n",
        "    \"\"\"\n",
        "    # Inisialisasi ImageDataGenerator untuk rescaling\n",
        "    datagen = ImageDataGenerator(rescale=1./255)\n",
        "\n",
        "    # Muat model yang telah dilatih\n",
        "    model = load_model(model_path)\n",
        "\n",
        "    # Daftar file gambar di folder\n",
        "    image_files = [f for f in os.listdir(folder_path) if f.lower().endswith(('.png', '.jpg', '.jpeg'))]\n",
        "    if len(image_files) == 0:\n",
        "        raise ValueError(\"No images found in the provided folder.\")\n",
        "\n",
        "    # Prepare plot\n",
        "    fig, ax = plt.subplots(1, len(image_files), figsize=(20, 5))\n",
        "    ax = ax.flatten()\n",
        "\n",
        "    # Pemetaan label biner ke nama kelas\n",
        "    labels_map = {0: 'Male', 1: 'Female'}\n",
        "\n",
        "    # Proses setiap gambar di folder\n",
        "    for i, file in enumerate(image_files):\n",
        "        img_path = os.path.join(folder_path, file)\n",
        "        img = load_img(img_path, target_size=target_size)\n",
        "        img_array = img_to_array(img)\n",
        "        img_array = np.expand_dims(img_array, axis=0)\n",
        "        img_array = datagen.flow(img_array, batch_size=1)[0]  # Preprocess the image\n",
        "\n",
        "        # Prediksi label untuk gambar\n",
        "        prediction = model.predict(img_array)\n",
        "        label = labels_map[int(prediction > 0.5)]\n",
        "\n",
        "        # Display the image with the predicted label\n",
        "        ax[i].imshow(img)\n",
        "        ax[i].set_title(label)\n",
        "        ax[i].axis('off')\n",
        "\n",
        "    plt.tight_layout()\n",
        "    plt.show()\n",
        "\n",
        "# Contoh penggunaan fungsi\n",
        "model_path = '/content/drive/MyDrive/vgg16_gender_classification_best_model2.h5'\n",
        "folder_path = '/content/drive/MyDrive/Test'\n",
        "predict_images_in_folder(model_path, folder_path)\n",
        "\n"
      ]
    },
    {
      "cell_type": "markdown",
      "source": [
        "# Prediksi dan Hitung Precision, Recall, F1 Score dan Inference time (Trial 7x)"
      ],
      "metadata": {
        "id": "o06HBt-mj65B"
      }
    },
    {
      "cell_type": "code",
      "execution_count": null,
      "metadata": {
        "id": "MfMrNg6riBeg"
      },
      "outputs": [],
      "source": [
        "from tensorflow.keras.preprocessing.image import ImageDataGenerator, load_img, img_to_array\n",
        "from tensorflow.keras.models import load_model\n",
        "import numpy as np\n",
        "import matplotlib.pyplot as plt\n",
        "import os\n",
        "from sklearn.metrics import precision_score, recall_score, f1_score\n",
        "import time\n",
        "\n",
        "def predict_images_in_test_folder(model_path, base_folder, target_size=(224, 224), max_images_per_class=50):\n",
        "    \"\"\"\n",
        "    Memperkirakan label untuk gambar yang ada di folder Test/Test_Male dan Test/Test_Female menggunakan model yang telah dilatih,\n",
        "    dan menghitung waktu inferensi serta metrik evaluasi menggunakan hasil prediksi sebagai label.\n",
        "\n",
        "    Parameters:\n",
        "    - model_path: Path ke model yang telah dilatih (file .h5).\n",
        "    - base_folder: Path ke folder dasar yang berisi folder 'Test_Male' dan 'Test_Female'.\n",
        "    - target_size: Ukuran gambar yang diharapkan oleh model.\n",
        "    - max_images_per_class: Jumlah maksimal gambar yang akan digunakan dari setiap kelas.\n",
        "\n",
        "    Returns:\n",
        "    - Tidak ada (menampilkan gambar beserta label yang diprediksi, waktu inferensi, precision, recall, dan F1-score).\n",
        "    \"\"\"\n",
        "    # Inisialisasi ImageDataGenerator untuk rescaling\n",
        "    datagen = ImageDataGenerator(rescale=1./255)\n",
        "\n",
        "    # Muat model yang telah dilatih\n",
        "    model = load_model(model_path)\n",
        "\n",
        "    # Folder untuk kategori Test_Male dan Test_Female\n",
        "    male_folder = os.path.join(base_folder, 'Test_Male')\n",
        "    female_folder = os.path.join(base_folder, 'Test_Female')\n",
        "\n",
        "    # Daftar file gambar di folder Test_Male dan Test_Female\n",
        "    male_files = [os.path.join(male_folder, f) for f in os.listdir(male_folder) if f.lower().endswith(('.png', '.jpg', '.jpeg'))][:max_images_per_class]\n",
        "    female_files = [os.path.join(female_folder, f) for f in os.listdir(female_folder) if f.lower().endswith(('.png', '.jpg', '.jpeg'))][:max_images_per_class]\n",
        "\n",
        "    # Menggabungkan kembali daftar gambar\n",
        "    image_files = male_files + female_files\n",
        "\n",
        "    # Pemetaan label biner ke nama kelas\n",
        "    labels_map = {0: 'Male', 1: 'Female'}\n",
        "\n",
        "    # Mulai hitung waktu inferensi\n",
        "    start_time = time.time()\n",
        "    # Proses setiap gambar di folder\n",
        "    y_true = []\n",
        "    y_pred_binary = []\n",
        "\n",
        "    # Ukuran batch untuk gambar per baris\n",
        "    batch_size = 8\n",
        "    num_batches = (len(image_files) + batch_size - 1) // batch_size\n",
        "\n",
        "    for batch_idx in range(num_batches):\n",
        "        fig, ax = plt.subplots(1, min(batch_size, len(image_files) - batch_idx * batch_size), figsize=(20, 5))\n",
        "        ax = ax.flatten()\n",
        "        for i in range(min(batch_size, len(image_files) - batch_idx * batch_size)):\n",
        "            file = image_files[batch_idx * batch_size + i]\n",
        "            img_path = file\n",
        "            img = load_img(img_path, target_size=target_size)\n",
        "            img_array = img_to_array(img)\n",
        "            img_array = np.expand_dims(img_array, axis=0)\n",
        "            img_array = datagen.flow(img_array, batch_size=1)[0]  # Preprocess the image\n",
        "\n",
        "            # Prediksi label untuk gambar\n",
        "            prediction = model.predict(img_array)\n",
        "            label = int(prediction > 0.5)\n",
        "            y_pred_binary.append(label)\n",
        "\n",
        "            # Tentukan label benar\n",
        "            true_label = 1 if 'Test_Female' in img_path else 0\n",
        "            y_true.append(true_label)\n",
        "\n",
        "            # Display the image with the predicted label\n",
        "            ax[i].imshow(img)\n",
        "            ax[i].set_title(f'Pred: {labels_map[label]}\\nTrue: {labels_map[true_label]}')\n",
        "            ax[i].axis('off')\n",
        "        plt.tight_layout()\n",
        "        plt.show()\n",
        "\n",
        "    # Akhiri hitung waktu inferensi\n",
        "    inference_time = time.time() - start_time\n",
        "\n",
        "    # Debug: Print y_true and y_pred_binary\n",
        "    print(\"True labels:\", y_true)\n",
        "    print(\"Predicted labels:\", y_pred_binary)\n",
        "\n",
        "    # Hitung metrik\n",
        "    precision = precision_score(y_true, y_pred_binary, zero_division=1)\n",
        "    recall = recall_score(y_true, y_pred_binary, zero_division=1)\n",
        "    f1 = f1_score(y_true, y_pred_binary, zero_division=1)\n",
        "\n",
        "    print(f'Inference Time: {inference_time} seconds')\n",
        "    print(f'Precision: {precision}')\n",
        "    print(f'Recall: {recall}')\n",
        "    print(f'F1-Score: {f1}')\n",
        "\n",
        "# Contoh penggunaan fungsi\n",
        "model_path = '/content/drive/MyDrive/vgg16_gender_classification_best_model2.h5'\n",
        "base_folder = '/content/drive/MyDrive/Test'\n",
        "predict_images_in_test_folder(model_path, base_folder)\n"
      ]
    },
    {
      "cell_type": "markdown",
      "metadata": {
        "id": "xJNWdz6jtsDq"
      },
      "source": []
    },
    {
      "cell_type": "code",
      "source": [
        "from tensorflow.keras.preprocessing.image import ImageDataGenerator, load_img, img_to_array\n",
        "from tensorflow.keras.models import load_model\n",
        "import numpy as np\n",
        "import matplotlib.pyplot as plt\n",
        "import os\n",
        "from sklearn.metrics import precision_score, recall_score, f1_score\n",
        "import time\n",
        "\n",
        "def predict_images_in_test_folder(model_path, base_folder, target_size=(224, 224), max_images_per_class=50):\n",
        "    \"\"\"\n",
        "    Memperkirakan label untuk gambar yang ada di folder Test/Test_Male dan Test/Test_Female menggunakan model yang telah dilatih,\n",
        "    dan menghitung waktu inferensi serta metrik evaluasi menggunakan hasil prediksi sebagai label.\n",
        "\n",
        "    Parameters:\n",
        "    - model_path: Path ke model yang telah dilatih (file .h5).\n",
        "    - base_folder: Path ke folder dasar yang berisi folder 'Test_Male' dan 'Test_Female'.\n",
        "    - target_size: Ukuran gambar yang diharapkan oleh model.\n",
        "    - max_images_per_class: Jumlah maksimal gambar yang akan digunakan dari setiap kelas.\n",
        "\n",
        "    Returns:\n",
        "    - Tidak ada (menampilkan gambar beserta label yang diprediksi, waktu inferensi, precision, recall, dan F1-score).\n",
        "    \"\"\"\n",
        "    # Inisialisasi ImageDataGenerator untuk rescaling\n",
        "    datagen = ImageDataGenerator(rescale=1./255)\n",
        "\n",
        "    # Muat model yang telah dilatih\n",
        "    model = load_model(model_path)\n",
        "\n",
        "    # Folder untuk kategori Test_Male dan Test_Female\n",
        "    male_folder = os.path.join(base_folder, 'Test_Male')\n",
        "    female_folder = os.path.join(base_folder, 'Test_Female')\n",
        "\n",
        "    # Daftar file gambar di folder Test_Male dan Test_Female\n",
        "    male_files = [os.path.join(male_folder, f) for f in os.listdir(male_folder) if f.lower().endswith(('.png', '.jpg', '.jpeg'))][:max_images_per_class]\n",
        "    female_files = [os.path.join(female_folder, f) for f in os.listdir(female_folder) if f.lower().endswith(('.png', '.jpg', '.jpeg'))][:max_images_per_class]\n",
        "\n",
        "    # Menggabungkan kembali daftar gambar\n",
        "    image_files = male_files + female_files\n",
        "\n",
        "    # Pemetaan label biner ke nama kelas\n",
        "    labels_map = {0: 'Male', 1: 'Female'}\n",
        "\n",
        "    # Mulai hitung waktu inferensi\n",
        "    start_time = time.time()\n",
        "    # Proses setiap gambar di folder\n",
        "    y_true = []\n",
        "    y_pred_binary = []\n",
        "\n",
        "    # Ukuran batch untuk gambar per baris\n",
        "    batch_size = 8\n",
        "    num_batches = (len(image_files) + batch_size - 1) // batch_size\n",
        "\n",
        "    for batch_idx in range(num_batches):\n",
        "        fig, ax = plt.subplots(1, min(batch_size, len(image_files) - batch_idx * batch_size), figsize=(20, 5))\n",
        "        ax = ax.flatten()\n",
        "        for i in range(min(batch_size, len(image_files) - batch_idx * batch_size)):\n",
        "            file = image_files[batch_idx * batch_size + i]\n",
        "            img_path = file\n",
        "            img = load_img(img_path, target_size=target_size)\n",
        "            img_array = img_to_array(img)\n",
        "            img_array = np.expand_dims(img_array, axis=0)\n",
        "            img_array = datagen.flow(img_array, batch_size=1)[0]  # Preprocess the image\n",
        "\n",
        "            # Prediksi label untuk gambar\n",
        "            prediction = model.predict(img_array)\n",
        "            label = int(prediction > 0.5)\n",
        "            y_pred_binary.append(label)\n",
        "\n",
        "            # Tentukan label benar\n",
        "            true_label = 1 if 'Test_Female' in img_path else 0\n",
        "            y_true.append(true_label)\n",
        "\n",
        "            # Display the image with the predicted label\n",
        "            ax[i].imshow(img)\n",
        "            ax[i].set_title(f'Pred: {labels_map[label]}\\nTrue: {labels_map[true_label]}')\n",
        "            ax[i].axis('off')\n",
        "        plt.tight_layout()\n",
        "        plt.show()\n",
        "\n",
        "    # Akhiri hitung waktu inferensi\n",
        "    inference_time = time.time() - start_time\n",
        "\n",
        "    # Debug: Print y_true and y_pred_binary\n",
        "    print(\"True labels:\", y_true)\n",
        "    print(\"Predicted labels:\", y_pred_binary)\n",
        "\n",
        "    # Hitung metrik\n",
        "    precision = precision_score(y_true, y_pred_binary, zero_division=1)\n",
        "    recall = recall_score(y_true, y_pred_binary, zero_division=1)\n",
        "    f1 = f1_score(y_true, y_pred_binary, zero_division=1)\n",
        "\n",
        "    print(f'Inference Time: {inference_time} seconds')\n",
        "    print(f'Precision: {precision}')\n",
        "    print(f'Recall: {recall}')\n",
        "    print(f'F1-Score: {f1}')\n",
        "\n",
        "# Contoh penggunaan fungsi\n",
        "model_path = '/content/drive/MyDrive/vgg16_gender_classification_best_model.h5'\n",
        "base_folder = '/content/drive/MyDrive/Test'\n",
        "predict_images_in_test_folder(model_path, base_folder)\n"
      ],
      "metadata": {
        "id": "EP-eQJ-TdEz3"
      },
      "execution_count": null,
      "outputs": []
    }
  ],
  "metadata": {
    "accelerator": "GPU",
    "colab": {
      "gpuType": "T4",
      "machine_shape": "hm",
      "provenance": []
    },
    "kernelspec": {
      "display_name": "Python 3",
      "name": "python3"
    },
    "language_info": {
      "name": "python"
    }
  },
  "nbformat": 4,
  "nbformat_minor": 0
}